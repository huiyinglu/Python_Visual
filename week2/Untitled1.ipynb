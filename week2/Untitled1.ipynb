{
 "cells": [
  {
   "cell_type": "code",
   "execution_count": null,
   "id": "f06ab69d",
   "metadata": {},
   "outputs": [],
   "source": [
    "import numpy as np"
   ]
  },
  {
   "cell_type": "code",
   "execution_count": null,
   "id": "059f17c7",
   "metadata": {},
   "outputs": [],
   "source": [
    "# Important np function\n",
    "a = np.array([1,2,3])\n",
    "\n",
    "print(type(a))\n",
    "print(a)"
   ]
  },
  {
   "cell_type": "code",
   "execution_count": null,
   "id": "88de7b09",
   "metadata": {},
   "outputs": [],
   "source": [
    "# This is something to learn\n",
    "print(a.shape) # Kristin\n",
    "print(np.shape(a)) # Coursera. 1 dimensional object with 3 values\n",
    "\n",
    "print(a[0], a[1], a[2])"
   ]
  },
  {
   "cell_type": "code",
   "execution_count": null,
   "id": "a49802e4",
   "metadata": {},
   "outputs": [],
   "source": [
    "b = np.array([[1,2],[3,4]])\n",
    "\n",
    "print(b)\n",
    "\n",
    "print(np.shape(b))\n",
    "\n",
    "print(b[1,0]) # Coursera: access row 1, column 0\n",
    "print(b[1][0]) # Kristin"
   ]
  },
  {
   "cell_type": "code",
   "execution_count": null,
   "id": "26b48b4e",
   "metadata": {},
   "outputs": [],
   "source": [
    "# Something good to learn\n",
    "c = np.zeros((3,2))\n",
    "\n",
    "print(c)"
   ]
  },
  {
   "cell_type": "code",
   "execution_count": null,
   "id": "18568e82",
   "metadata": {},
   "outputs": [],
   "source": [
    "# Something good to learn\n",
    "d = np.ones((3,2))\n",
    "\n",
    "print(d)"
   ]
  },
  {
   "cell_type": "code",
   "execution_count": null,
   "id": "5bbf93bb",
   "metadata": {},
   "outputs": [],
   "source": [
    "e = np.full((3,3), 9)\n",
    "\n",
    "print(e)"
   ]
  },
  {
   "cell_type": "code",
   "execution_count": null,
   "id": "356b762e",
   "metadata": {},
   "outputs": [],
   "source": [
    "# Something good to learn\n",
    "g = np.random.random((3,3))\n",
    "\n",
    "print(g)"
   ]
  },
  {
   "cell_type": "code",
   "execution_count": null,
   "id": "3e916225",
   "metadata": {},
   "outputs": [],
   "source": [
    "h = np.array([[1,2,3,4], [5,6,7,8], [9,10,11,12]])\n",
    "print(h) # Note the shape. 3 rows, 4 columns"
   ]
  },
  {
   "cell_type": "code",
   "execution_count": null,
   "id": "5da737d5",
   "metadata": {},
   "outputs": [],
   "source": [
    "h = np.array([[1,2,3,4], [5,6,7,8], [9,10,11,12]])\n",
    "i = h[:2, 1:3] # Specify row positions, then column positions\n",
    "\n",
    "print(h)\n",
    "print(i)"
   ]
  },
  {
   "cell_type": "code",
   "execution_count": null,
   "id": "27f99525",
   "metadata": {},
   "outputs": [],
   "source": [
    "# Note: change i also changed h\n",
    "i[0,0] = 500\n",
    "print(i)\n",
    "print()\n",
    "print(h)"
   ]
  },
  {
   "cell_type": "code",
   "execution_count": null,
   "id": "72feae8e",
   "metadata": {},
   "outputs": [],
   "source": [
    "j = np.array([1,2])\n",
    "\n",
    "# Note: dtype function gives us the actual values within the array\n",
    "#       The type function we saw earlier specified the numpy array object\n",
    "print(j.dtype) \n",
    "\n",
    "k = np.array([1.0, 2.0])\n",
    "print(k.dtype)\n",
    "\n",
    "l = np.array([1.0, 2.0], dtype = np.int64)\n",
    "print(l.dtype)"
   ]
  },
  {
   "cell_type": "code",
   "execution_count": null,
   "id": "3ef89caa",
   "metadata": {},
   "outputs": [],
   "source": [
    "x = np.array([[1,2],[3,4]], dtype = np.float64)\n",
    "y = np.array([[5,6],[7,8]], dtype = np.float64)\n",
    "\n",
    "print(x+y)\n",
    "print(x-y)\n",
    "print(x*y)\n",
    "print(x/y)\n",
    "print(np.sqrt(x))"
   ]
  },
  {
   "cell_type": "code",
   "execution_count": null,
   "id": "60e4b7c1",
   "metadata": {},
   "outputs": [],
   "source": [
    "print(np.sum(x)) # sum up all the values in array x\n",
    "print(np.sum(x, axis=0)) # just sum up the rows\n",
    "print(np.sum(x, axis=1)) # just sum up the columns"
   ]
  },
  {
   "cell_type": "code",
   "execution_count": 1,
   "id": "6b1f8697",
   "metadata": {},
   "outputs": [],
   "source": [
    "from scipy import stats\n",
    "import numpy as np"
   ]
  },
  {
   "cell_type": "code",
   "execution_count": 2,
   "id": "e9641855",
   "metadata": {},
   "outputs": [
    {
     "name": "stdout",
     "output_type": "stream",
     "text": [
      "[-1.18163339  0.46701674  0.13990187  0.78164308 -2.60994751  0.57881751\n",
      " -1.36262324 -0.77702663 -0.59675082  1.12346246 -1.78603726  2.37105251\n",
      " -0.61235954  1.28753578  2.50273025  1.95828469 -0.995558    0.68343581\n",
      "  1.4373021   1.12128392  0.43517913  1.56743411 -0.02576814  2.97528145\n",
      "  0.96791845 -0.04290317 -1.05825333 -0.19862732  0.21141303 -1.2930771\n",
      " -0.61548071 -1.24717887 -0.84503372  1.18238241  0.16490222  0.1458826\n",
      " -1.8072354   0.23177946  0.35563398 -0.07503219 -1.07329732 -0.72302709\n",
      " -1.22091674  0.53082224  1.10455737 -0.49254015  0.32783171  1.83451611\n",
      " -1.95198667 -0.57586844  0.34308156  0.60610534  0.92088032  0.74815381\n",
      "  1.21029447  0.18982399 -1.56763537 -0.61386052 -0.07686439 -1.74706659\n",
      "  0.53739196 -0.46421257 -0.84932179 -0.61570144 -0.49315587 -0.03660539\n",
      "  0.32725671 -2.44141661 -0.39329968  0.49701014  2.26029108 -0.32131832\n",
      "  0.30901371  0.93074613 -1.31274954  1.10609276  1.02739032 -1.53092483\n",
      " -0.42864265 -1.11753191 -0.22780036  1.1785229   1.22660901  0.28672619\n",
      "  0.15785656  0.22165359 -1.528883   -1.09686504  1.53606169  0.44308109\n",
      " -0.10946937 -0.82283906 -0.22234232 -1.37174876  1.15927242  1.09112098\n",
      " -0.3381683   0.07884734 -0.1678411   1.02945349  1.22949139 -0.1092528\n",
      "  0.85168059  0.09677023  0.07818723 -1.22474802  0.40837745  0.49899039\n",
      "  1.26260969  0.97936184 -0.15269776  3.04650057 -0.31727093  0.47676815\n",
      " -2.08677088  0.30234733  1.43623518  0.19631207 -0.17023968  0.36377117\n",
      "  0.05037001 -0.61750356  2.14276901  0.05560513  0.06014847  0.22735659\n",
      " -1.35239311  0.542008    0.60645718 -0.1811178   0.79118243 -0.86176057\n",
      "  0.58187158  0.59490562  0.99263656  0.97247082  2.39244954  0.05525637\n",
      "  0.39760161  0.75108549 -0.71553683  0.08719196  1.06311076 -1.1545786\n",
      "  0.02855916 -0.45821009  0.58363935 -0.38275104 -1.86457223  0.05595174\n",
      " -2.06827577 -1.08648332  0.83500542  1.70464293  0.85065591  0.06168445\n",
      "  1.30140964  1.19401711 -1.36951678  0.11386009  0.41355638  0.11414522\n",
      " -0.30488643  0.05693503  0.42412322 -0.2672172   1.17162132 -0.99651562\n",
      "  0.63692876  0.03549696 -0.21065664 -1.28595205 -0.60320096  0.64083764\n",
      "  1.21335165  1.04038236 -0.33881839  0.30258357 -0.90287763  0.20693517\n",
      " -1.53093256 -1.37367013  1.06858057 -0.72746719 -1.14981539  1.18991484\n",
      " -0.21257805  0.73711712 -0.52253926 -0.20234596  0.85509322 -0.41350495\n",
      " -0.47491569 -0.70038941  1.18315629 -1.47563205 -1.0892887   0.75624141\n",
      "  1.42304071  0.30877194  1.15678303 -0.11842174  0.54549739  1.54833691\n",
      " -0.66821708 -1.34220181  0.01361452 -0.28552514  1.64474414  2.14468027\n",
      " -0.27974446 -0.38143467 -0.40585546 -0.6540974   0.79004926 -0.06289366\n",
      "  0.20862451  1.39879285  1.14323868 -0.34350761 -0.61000315 -0.3225982\n",
      " -2.16500413  0.75023922  0.1572552   0.96507365  1.3754062   0.74300042\n",
      " -0.03424617  2.19764455  1.39562079 -0.298467    1.22987299 -0.10045273\n",
      "  0.96888423 -0.53395564 -1.47914868 -0.90644851 -0.59034344 -0.12331043\n",
      " -0.72443314  0.97203446 -0.52245579 -1.25320551 -0.57536506 -0.49605516\n",
      "  2.2321189   2.60442047 -0.5070473   2.90910059  1.49434931 -1.28942475\n",
      "  0.80785621 -0.4211515  -0.13001423 -0.92833577 -0.0356249   1.42843162\n",
      " -0.21849196 -0.11533642  0.48266997 -0.39393657  0.74907521  0.10589242\n",
      " -2.01997338  0.97306518 -1.04622009 -0.66044249 -0.09231483  1.07677199\n",
      "  0.43572198  1.91411923 -0.97885883  1.69956037 -0.11340231  1.49916836\n",
      " -0.23630036  1.70501207  0.34408912 -0.43207387 -0.29897888  0.62091657\n",
      "  0.96299861  0.03441336 -0.89169569  0.92394854  0.01237862  0.52307424\n",
      "  0.93812598 -0.66232331  0.10753734 -0.89359737  1.10966724  0.34141859\n",
      "  0.7321105   0.97060988 -0.48003838 -0.05983535 -0.49850057 -0.05320557\n",
      "  0.05080766 -0.08405977 -0.83395371 -0.66819669 -0.14299657 -1.4272225\n",
      "  0.57726522  1.21314383 -2.11371984  2.51675525 -1.31527238 -2.21965194\n",
      " -0.22576512 -0.3074665   1.74651547  1.0486455   0.60644153  1.1377715\n",
      "  0.70780742 -0.87308498 -0.49416668 -1.42174979 -1.77827962  0.2972355\n",
      "  1.19993671 -1.05624827 -0.63620853  0.54726662  0.4774853  -1.51397532\n",
      " -0.13835939 -0.61461009 -2.13550857 -1.67743116 -1.29056231  0.96770006\n",
      "  0.76218101  0.57946302  0.54910959  1.51013464  0.05137811 -0.24095871\n",
      " -0.85481968 -0.37525086 -0.19583368  0.4982367  -0.06226211 -0.3717813\n",
      " -0.74220663  0.80774493 -0.03571591 -0.52898762 -1.09283903 -0.10348303\n",
      " -0.71321114  0.22285385 -0.77364764 -0.37983465 -0.66815952  1.83410782\n",
      " -0.78210869  1.28241317  0.89983354  2.18529061 -1.35962034 -2.39802275\n",
      "  2.35322591  0.58525301 -2.07021184 -0.19166801 -0.31991825  1.06325882\n",
      "  2.48492834 -0.77424216 -0.48167148 -0.34009924 -0.30060964 -1.05981762\n",
      "  0.93985753  0.27129251 -0.18580857  0.35235908 -0.84817272 -1.37059573\n",
      " -1.34660899  0.03910971 -0.49408164 -1.52813326  1.64593522 -0.32602568\n",
      " -0.76465669  0.56078681 -1.07683352 -0.37209835 -0.71470071  0.34884714\n",
      " -0.70500584 -0.46699963 -0.10242649 -0.56972481 -1.79254875 -0.92585485\n",
      " -0.61186558 -0.77245922 -0.19710358 -0.52315694  0.75009654  0.52426891\n",
      " -0.66756053 -0.57937742  0.14646381  0.02680607  0.6541721  -0.58204458\n",
      "  0.72320071  0.10740943 -0.30728575  0.04891012  0.28910272  0.75554314\n",
      " -0.35124047  0.15088034  1.11423517  0.07209072  0.15167666  1.57624654\n",
      "  0.24638073 -0.66334549 -1.95929537 -1.04983211  0.18312026 -0.25006155\n",
      " -2.07638146 -0.45121692 -0.49049244 -1.24636386  0.95061047 -0.25032584\n",
      "  1.30875634  0.56173567 -0.64584776 -0.19378771  1.84904446 -0.71619217\n",
      "  0.02611415  1.25152637  1.10823583  1.09395455 -0.79176671  1.09648026\n",
      "  0.99158289  1.10901278 -1.00002109  2.23574132  0.62153329  0.83428341\n",
      " -0.78676946 -0.89143756 -1.71648252 -0.41066448  0.74638465 -0.6282075\n",
      " -0.41405651  1.34810564  0.12164433  1.05964538  1.88852438  2.05884532\n",
      " -1.84829323  0.89543004 -2.90889068  1.15661222 -0.9126434  -1.81834484\n",
      "  0.50272698 -0.76653292 -1.60935578 -0.33468047 -0.02238488  1.01174928\n",
      " -0.24413308 -0.16314975 -0.79854651  0.83246588  0.33353694  0.34335347\n",
      "  1.09223616  1.48371134 -0.0854831   0.95357274  0.04431771  0.47538495\n",
      "  0.64123304  0.32098073 -0.55694283 -0.66524563 -0.84710997  0.71332517\n",
      "  0.52115133  0.0949704   0.71028112 -1.60922271 -1.00436184 -0.25388787\n",
      "  1.28690537 -1.41800143  0.98708654 -0.62434854 -1.87865166  0.83862208\n",
      " -2.07194578  0.33397976 -0.70374614  0.58777822 -2.10629582 -0.59695229\n",
      "  1.87392057 -0.67081772 -0.42432097 -0.0158552   0.09394638 -1.03053614\n",
      " -1.32636655 -0.22603945  1.21849618  0.04096426  1.77555336 -0.91307586\n",
      " -0.15328036 -1.5948826  -0.77605062  1.13170098  1.5258598  -0.78373389\n",
      "  0.9659398   0.6906384   0.31914281  0.09888336  1.52104468  1.38188927\n",
      "  0.60422037 -0.60019434  0.67070069  0.62015673 -0.050637    1.36992014\n",
      " -1.17602906 -0.7554714  -1.34911086  0.56987892  0.08290306  0.98961485\n",
      "  0.74011356 -0.20366402 -0.05685636 -0.64896466  0.00632524 -0.38945373\n",
      " -0.42963908 -1.23753204 -0.68310496 -0.34253045  0.8214922  -1.52512427\n",
      "  0.79061362  0.46099147 -0.32927634 -0.81709685  0.32856212  1.18139728\n",
      "  1.03247419  0.5930563   0.39211088  0.00808945  0.51043298 -0.03280894\n",
      " -0.12929668 -0.19340094 -0.59981895 -0.69525214 -0.18238028 -0.33305709\n",
      " -0.83548574 -0.24338582 -0.81138691 -1.35251813 -1.2968956   0.29321404\n",
      "  0.91454648  0.5927183   0.19620965  2.65662922  1.0218135  -0.55686926\n",
      "  0.91889821 -0.32907657 -0.76467701 -0.81238787 -0.5489129   1.47510507\n",
      " -1.54892598  0.38639028 -0.71062903  0.3108216   0.13588803 -0.61907758\n",
      " -1.63190034  0.31748702  1.0435921   0.47130447  0.20174725  0.68688748\n",
      "  1.24935831  0.18072667  1.02660277  0.89549735  0.82282968  1.22906544\n",
      "  0.81667893  1.50290522  0.05703671  0.51291248  1.2312278   1.51470589\n",
      "  0.82525505  0.0916909   0.28345434  2.26990808 -0.72101816 -0.75723086\n",
      " -0.78376539 -1.24496967 -0.66224844  1.0556106   0.33840017 -0.78212371\n",
      "  0.11484287 -0.45987157  0.54668094  1.2754278   0.07922709  0.18395473\n",
      "  0.83658123 -0.07286651  1.29318603 -1.16308475 -0.22119005  0.33382521\n",
      "  0.01262222 -0.16011003 -1.10110711  0.03259688 -0.01003068 -0.64598632\n",
      "  0.48664815  0.20841045  0.30129119  0.15314495  0.89048619  0.33060846\n",
      " -0.03809898  0.09345299 -2.04163599 -1.40800655 -0.25893939 -1.17386714\n",
      " -1.73180051 -0.52106002 -0.02740384  0.07548186  0.21540876 -0.64411008\n",
      "  1.25861356  1.68720905 -0.01064723  1.43495785  1.70172674  0.76495041\n",
      "  0.05558214  0.0580232  -0.24319496 -0.62028914 -0.13312973  0.06605918\n",
      "  0.46357199 -0.98757218 -0.61634316 -0.92836491 -1.86842849 -1.43302625\n",
      " -0.23514735 -0.94821641 -0.40987466 -0.60937775 -0.93844945 -0.57054722\n",
      " -0.34656608 -0.82336153  0.89858066 -0.7933474   1.11759968 -1.73910286\n",
      "  1.42881872 -1.89714754 -0.60465437  0.69811555 -0.54706665  0.98877446\n",
      "  0.57844893 -0.47686111 -0.68472579  1.11919987  0.45259416  2.30977824\n",
      "  0.48452683  0.24670081  1.15959698 -0.73801373 -0.30705081  0.44132367\n",
      " -0.20672488 -0.04846662  1.1873104   0.92767986  0.34779884 -1.33585359\n",
      "  1.56937498 -0.15106359  1.74389963 -1.58834179  1.2783875  -0.73651578\n",
      " -0.57480297  0.57538013  0.59760623  1.46451205 -0.10311526  0.65207561\n",
      "  0.30939475 -0.30798032  0.81387151 -0.2450229  -0.40515261 -1.36722605\n",
      "  1.94591656  0.83225353  0.18137355  0.01610795  2.06962652 -0.23735847\n",
      "  0.03796222 -0.28171194 -0.70236417 -0.77279465  0.61687302  0.04207514\n",
      " -0.24051589  0.15218781  1.60857379  0.50371063  0.58212234 -0.1148288\n",
      " -0.01414076 -0.42895854  0.66383073  0.58539944  0.30080002  1.05266622\n",
      "  0.19814899 -0.86272282  0.88782592 -0.28861026  0.57836648  0.45064399\n",
      " -0.12232572 -1.50763872  0.62899087 -1.83606833 -0.04010333 -0.32198388\n",
      " -1.23201005 -2.00560996  1.52307602 -0.1181426  -0.4026063   0.11744665\n",
      "  0.83448681 -2.04292353 -0.73499147  1.17078806 -0.31440375  0.89939245\n",
      " -0.629564    0.06538177  0.32911139 -1.84885631  0.42335985  0.37525616\n",
      "  0.22244622  0.85002117 -0.56394002 -0.99324     0.46116427  0.07192253\n",
      "  0.8031884  -0.74448146  0.60180361  1.15104596  1.39535164 -0.93244455\n",
      " -0.76065225  0.29993488 -0.78462667 -1.01336823  1.22036821  1.03826047\n",
      " -0.49353673  0.27664045  0.59652044 -0.64536515 -0.78513962 -0.51020871\n",
      " -0.12168363  0.38290163 -0.15083024  0.2758368  -0.23792214  2.39164021\n",
      " -0.17650104 -1.09315871  1.03879155 -0.25071855  0.92488585  0.17520379\n",
      "  1.76043598  1.13935274 -0.30412219  0.71242306  2.36926382  0.7853095\n",
      "  1.23628    -0.5196806  -1.018055   -0.6666352  -0.48220351  1.19529675\n",
      " -0.40576128  1.4132396   0.29298357 -0.5413025   0.84553564 -0.18897632\n",
      " -1.16937466 -0.44349399 -0.0472794  -0.15544976  1.21875376  0.13012587\n",
      " -0.73619748  1.31726777  1.38369321  0.87665699  0.37727486  1.75597215\n",
      "  0.91005681  0.99567404 -0.61596393 -1.29793442 -1.35553527  0.11925596\n",
      " -1.22746384 -0.44160753  0.31377986 -1.20893989 -1.3258543   0.58686971\n",
      " -1.26625744  0.31819984  0.95563417 -1.35824217 -0.55234641  1.28119893\n",
      "  0.47756035 -0.22557955 -1.14131072 -0.71673912 -0.24603312 -0.66556398\n",
      " -0.70010302 -0.11452404  0.52073851 -0.73774952  1.55976859  1.50164685\n",
      " -0.25658381 -0.4859866   0.53514323  1.43863316  0.89810642 -1.89648874\n",
      "  1.63582196  0.12057932 -0.85205181 -1.73308211  0.84492955 -1.8224202\n",
      " -0.62707157  1.04917376  2.15460295  0.96370218  0.58029052  0.35576869\n",
      " -1.86395176 -2.38187609  0.35839424 -0.21991755  0.15902152 -0.72938706\n",
      " -0.57337637 -0.18297936  0.76774415 -0.8878755   0.64437198  1.03616527\n",
      " -2.72197703  0.74403915  1.78611093 -0.05425552  0.74333522 -0.76908904\n",
      " -0.31689387 -1.3645118   0.56006747  1.82213203  0.98010951  0.59178419\n",
      " -1.24388835  1.34479422  0.26688495  1.71862091  0.95324288  0.60987265\n",
      " -1.51290876 -1.71112019  0.57093233 -0.60434129  1.05791374  0.68920052\n",
      " -2.13657817 -1.96822936  0.44910936 -0.13975822  1.71605525 -1.28149221\n",
      "  0.31373642 -0.82412943 -2.18597582 -0.6741194   0.89872306  1.48075974\n",
      "  1.07827231  0.55755987 -0.43065721 -1.11567874  3.00600554 -0.08065396\n",
      "  0.58606353  0.30814248  1.34478693 -1.15774935 -1.3194923  -1.00712196\n",
      "  2.74016069  0.22250097 -0.06422177 -0.58576327 -0.38683114 -0.82839453\n",
      "  0.33378419  0.08201107  1.13476476 -1.30928345  1.86111365 -0.38607947\n",
      " -1.79258671  0.34381014  0.29963549  1.50984414 -0.30577302  2.19209536\n",
      "  0.21089781  1.29461695 -1.51481104  0.96369178  1.32766651  0.43672902\n",
      "  0.83701321  0.84199091  0.98080505 -0.34402445]\n"
     ]
    }
   ],
   "source": [
    "print(stats.norm.rvs(size=1000))"
   ]
  },
  {
   "cell_type": "code",
   "execution_count": 3,
   "id": "63057f81",
   "metadata": {},
   "outputs": [
    {
     "data": {
      "image/png": "[encoded data removed]",
      "text/plain": [
       "<Figure size 432x288 with 1 Axes>"
      ]
     },
     "metadata": {
      "needs_background": "light"
     },
     "output_type": "display_data"
    }
   ],
   "source": [
    "from pylab import *\n",
    "\n",
    "# Create some test data\n",
    "dx = .01\n",
    "X  = np.arange(-2,2,dx)\n",
    "Y  = exp(-X**2)\n",
    "\n",
    "# Normalize the data to a proper PDF\n",
    "Y /= (dx*Y).sum()\n",
    "\n",
    "# Compute the CDF\n",
    "CY = np.cumsum(Y*dx)\n",
    "\n",
    "# Plot both\n",
    "plot(X,Y)\n",
    "plot(X,CY,'r--')\n",
    "\n",
    "show()"
   ]
  },
  {
   "cell_type": "code",
   "execution_count": 4,
   "id": "6f81b8ae",
   "metadata": {},
   "outputs": [
    {
     "name": "stdout",
     "output_type": "stream",
     "text": [
      "[0.84134475 0.15865525 0.5        0.84134475 0.9986501  0.99996833\n",
      " 0.02275013 1.        ]\n"
     ]
    }
   ],
   "source": [
    "### Compute the Normal CDF of certain values.\n",
    "print(stats.norm.cdf(np.array([1,-1., 0, 1, 3, 4, -2, 6])))"
   ]
  },
  {
   "cell_type": "code",
   "execution_count": 7,
   "id": "84444cf8",
   "metadata": {},
   "outputs": [],
   "source": [
    "# it essentially sets a seed for your environment that allows you to create reproducible analysis\n",
    "# We use the random seed to generate the random variables.\n",
    "# We're using a t distribution rather than a norm distribution this time.\n",
    "#np.random.seed(1234)\n",
    "#x = stats.t.rvs(10, size=1000)\n",
    "\n",
    "np.random.seed(282629734)\n",
    "\n",
    "# Generate 1000 Student’s T continuous random variables.\n",
    "x = stats.t.rvs(10, size=1000)"
   ]
  },
  {
   "cell_type": "code",
   "execution_count": 8,
   "id": "7af5b003",
   "metadata": {},
   "outputs": [
    {
     "name": "stdout",
     "output_type": "stream",
     "text": [
      "-3.7897557242248197\n",
      "5.263277329807165\n",
      "0.014061066398468422\n"
     ]
    },
    {
     "data": {
      "text/plain": [
       "DescribeResult(nobs=1000, minmax=(-3.7897557242248197, 5.263277329807165), mean=0.014061066398468422, variance=1.2902841462255106, skewness=0.21652778283120955, kurtosis=1.055594041706331)"
      ]
     },
     "execution_count": 8,
     "metadata": {},
     "output_type": "execute_result"
    }
   ],
   "source": [
    "print(x.min())\n",
    "\n",
    "print(x.max())\n",
    "\n",
    "print(x.mean())\n",
    "\n",
    "stats.describe(x)"
   ]
  },
  {
   "cell_type": "code",
   "execution_count": null,
   "id": "41a17e83",
   "metadata": {},
   "outputs": [],
   "source": []
  }
 ],
 "metadata": {
  "kernelspec": {
   "display_name": "Python 3 (ipykernel)",
   "language": "python",
   "name": "python3"
  },
  "language_info": {
   "codemirror_mode": {
    "name": "ipython",
    "version": 3
   },
   "file_extension": ".py",
   "mimetype": "text/x-python",
   "name": "python",
   "nbconvert_exporter": "python",
   "pygments_lexer": "ipython3",
   "version": "3.9.11"
  }
 },
 "nbformat": 4,
 "nbformat_minor": 5
}
